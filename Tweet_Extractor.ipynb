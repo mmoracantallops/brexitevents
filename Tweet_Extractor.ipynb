{
 "cells": [
  {
   "cell_type": "code",
   "execution_count": 1,
   "metadata": {
    "ExecuteTime": {
     "end_time": "2018-07-24T14:08:10.081653Z",
     "start_time": "2018-07-24T14:08:00.358395Z"
    }
   },
   "outputs": [],
   "source": [
    "from __future__ import print_function\n",
    "import logging\n",
    "import numpy as np\n",
    "import sys\n",
    "import csv\n",
    "import json\n",
    "\n",
    "from optparse import OptionParser\n",
    "from configparser import ConfigParser\n",
    "import time\n",
    "from pymongo import MongoClient\n",
    "from twython import Twython, TwythonRateLimitError\n",
    "from dateutil import parser\n",
    "import datetime as dt\n",
    "from datetime import datetime\n",
    "\n",
    "from twitter import Twitter, OAuth\n",
    "from pandas import DataFrame, read_csv\n",
    "import pandas as pd\n",
    "\n",
    "config = ConfigParser()\n",
    "config.read('twitter.cfg')\n",
    "# for py27 change config to get_config\n",
    "APP_KEY       = config.get('credentials','app_key')\n",
    "APP_SECRET    = config['credentials']['app_secret']\n",
    "twitter       = Twython(APP_KEY, APP_SECRET, oauth_version=2)\n",
    "ACCESS_TOKEN  = twitter.obtain_access_token()\n",
    "twitter       = Twython(APP_KEY, access_token=ACCESS_TOKEN)\n",
    "\n",
    "logging.basicConfig(filename='Twitter_Brexit.log',level=logging.DEBUG)\n",
    "logging.info('TWEETS_BREXIT')\n",
    "logging.warning('GO!')\n",
    "\n",
    "screen_name  = 'retromaquinitas'     # The main twitter account\n",
    "n_days       = 30          # Only tweets more recent than n_days are kept\n",
    "n_friends  = 500\n",
    "\n",
    "def wait_for_awhile():\n",
    "    reset = int(twitter.get_lastfunction_header('x-rate-limit-reset'))\n",
    "    wait = max(reset - time.time(), 0) + 10\n",
    "    print(\"Rate limit exceeded waiting: %sm %0.0fs\"%\n",
    "            (int(int( wait)/60),wait % 60 ))\n",
    "    time.sleep(wait)\n",
    "    \n"
   ]
  },
  {
   "cell_type": "code",
   "execution_count": 33,
   "metadata": {
    "ExecuteTime": {
     "end_time": "2018-07-19T14:19:20.645883Z",
     "start_time": "2018-07-19T14:19:20.640884Z"
    }
   },
   "outputs": [],
   "source": [
    "def chunks(l, n):\n",
    "    \"\"\"Yield successive n-sized chunks from l.\"\"\"\n",
    "    for i in range(0, len(l), n):\n",
    "        yield l[i:i + n]"
   ]
  },
  {
   "cell_type": "code",
   "execution_count": 3,
   "metadata": {
    "ExecuteTime": {
     "end_time": "2018-07-24T14:09:00.841163Z",
     "start_time": "2018-07-24T14:09:00.629473Z"
    }
   },
   "outputs": [
    {
     "name": "stdout",
     "output_type": "stream",
     "text": [
      "730735231712538624\n",
      "{'id': 2365445227, 'id_str': '2365445227', 'name': 'European Mainstream', 'screen_name': 'EU_Mainstream', 'location': 'United Kingdom', 'description': \"Mainstream of Conservative Party, united by belief that UK's national interest is best served working for changes within EU |\\n\\n\\nFB page: https://t.co/3dpgYhbNZL\", 'url': 'http://t.co/5ww1lJ0myT', 'entities': {'url': {'urls': [{'url': 'http://t.co/5ww1lJ0myT', 'expanded_url': 'http://www.europeanmainstream.org.uk', 'display_url': 'europeanmainstream.org.uk', 'indices': [0, 22]}]}, 'description': {'urls': [{'url': 'https://t.co/3dpgYhbNZL', 'expanded_url': 'https://www.facebook.com/ConservativeEuropeamMainstream/', 'display_url': 'facebook.com/ConservativeEu…', 'indices': [137, 160]}]}}, 'protected': False, 'followers_count': 1144, 'friends_count': 681, 'listed_count': 54, 'created_at': 'Fri Feb 28 11:00:22 +0000 2014', 'favourites_count': 434, 'utc_offset': None, 'time_zone': None, 'geo_enabled': False, 'verified': False, 'statuses_count': 1430, 'lang': 'en', 'contributors_enabled': False, 'is_translator': False, 'is_translation_enabled': False, 'profile_background_color': 'C0DEED', 'profile_background_image_url': 'http://abs.twimg.com/images/themes/theme1/bg.png', 'profile_background_image_url_https': 'https://abs.twimg.com/images/themes/theme1/bg.png', 'profile_background_tile': False, 'profile_image_url': 'http://pbs.twimg.com/profile_images/443692556421832704/sdu4Jsst_normal.jpeg', 'profile_image_url_https': 'https://pbs.twimg.com/profile_images/443692556421832704/sdu4Jsst_normal.jpeg', 'profile_banner_url': 'https://pbs.twimg.com/profile_banners/2365445227/1436132186', 'profile_link_color': '1DA1F2', 'profile_sidebar_border_color': 'C0DEED', 'profile_sidebar_fill_color': 'DDEEF6', 'profile_text_color': '333333', 'profile_use_background_image': True, 'has_extended_profile': False, 'default_profile': True, 'default_profile_image': False, 'following': None, 'follow_request_sent': None, 'notifications': None, 'translator_type': 'none'}\n",
      "{'created_at': 'Thu May 12 12:23:50 +0000 2016', 'id': 730735231712538624, 'id_str': '730735231712538624', 'text': \"Yet more evidence that #Brexit will have negative economic impact. Britain's economy is #StrongerIn  https://t.co/UWlnsaV4op\", 'truncated': False, 'entities': {'hashtags': [{'text': 'Brexit', 'indices': [23, 30]}, {'text': 'StrongerIn', 'indices': [88, 99]}], 'symbols': [], 'user_mentions': [], 'urls': [{'url': 'https://t.co/UWlnsaV4op', 'expanded_url': 'https://twitter.com/cbitweets/status/730733544989949953', 'display_url': 'twitter.com/cbitweets/stat…', 'indices': [101, 124]}]}, 'source': '<a href=\"http://twitter.com/download/iphone\" rel=\"nofollow\">Twitter for iPhone</a>', 'in_reply_to_status_id': None, 'in_reply_to_status_id_str': None, 'in_reply_to_user_id': None, 'in_reply_to_user_id_str': None, 'in_reply_to_screen_name': None, 'user': {'id': 2365445227, 'id_str': '2365445227', 'name': 'European Mainstream', 'screen_name': 'EU_Mainstream', 'location': 'United Kingdom', 'description': \"Mainstream of Conservative Party, united by belief that UK's national interest is best served working for changes within EU |\\n\\n\\nFB page: https://t.co/3dpgYhbNZL\", 'url': 'http://t.co/5ww1lJ0myT', 'entities': {'url': {'urls': [{'url': 'http://t.co/5ww1lJ0myT', 'expanded_url': 'http://www.europeanmainstream.org.uk', 'display_url': 'europeanmainstream.org.uk', 'indices': [0, 22]}]}, 'description': {'urls': [{'url': 'https://t.co/3dpgYhbNZL', 'expanded_url': 'https://www.facebook.com/ConservativeEuropeamMainstream/', 'display_url': 'facebook.com/ConservativeEu…', 'indices': [137, 160]}]}}, 'protected': False, 'followers_count': 1144, 'friends_count': 681, 'listed_count': 54, 'created_at': 'Fri Feb 28 11:00:22 +0000 2014', 'favourites_count': 434, 'utc_offset': None, 'time_zone': None, 'geo_enabled': False, 'verified': False, 'statuses_count': 1430, 'lang': 'en', 'contributors_enabled': False, 'is_translator': False, 'is_translation_enabled': False, 'profile_background_color': 'C0DEED', 'profile_background_image_url': 'http://abs.twimg.com/images/themes/theme1/bg.png', 'profile_background_image_url_https': 'https://abs.twimg.com/images/themes/theme1/bg.png', 'profile_background_tile': False, 'profile_image_url': 'http://pbs.twimg.com/profile_images/443692556421832704/sdu4Jsst_normal.jpeg', 'profile_image_url_https': 'https://pbs.twimg.com/profile_images/443692556421832704/sdu4Jsst_normal.jpeg', 'profile_banner_url': 'https://pbs.twimg.com/profile_banners/2365445227/1436132186', 'profile_link_color': '1DA1F2', 'profile_sidebar_border_color': 'C0DEED', 'profile_sidebar_fill_color': 'DDEEF6', 'profile_text_color': '333333', 'profile_use_background_image': True, 'has_extended_profile': False, 'default_profile': True, 'default_profile_image': False, 'following': None, 'follow_request_sent': None, 'notifications': None, 'translator_type': 'none'}, 'geo': None, 'coordinates': None, 'place': None, 'contributors': None, 'is_quote_status': True, 'quoted_status_id': 730733544989949953, 'quoted_status_id_str': '730733544989949953', 'quoted_status': {'created_at': 'Thu May 12 12:17:08 +0000 2016', 'id': 730733544989949953, 'id_str': '730733544989949953', 'text': 'Evidence that leaving the EU will have negative economic impact is growing, says @RainNewtonSmith https://t.co/2ZlAbkxpCC', 'truncated': False, 'entities': {'hashtags': [], 'symbols': [], 'user_mentions': [{'screen_name': 'RainNewtonSmith', 'name': 'Rain Newton-Smith', 'id': 515415574, 'id_str': '515415574', 'indices': [81, 97]}], 'urls': [], 'media': [{'id': 730733544687992832, 'id_str': '730733544687992832', 'indices': [98, 121], 'media_url': 'http://pbs.twimg.com/media/CiQWSYyXAAAaEtW.jpg', 'media_url_https': 'https://pbs.twimg.com/media/CiQWSYyXAAAaEtW.jpg', 'url': 'https://t.co/2ZlAbkxpCC', 'display_url': 'pic.twitter.com/2ZlAbkxpCC', 'expanded_url': 'https://twitter.com/CBItweets/status/730733544989949953/photo/1', 'type': 'photo', 'sizes': {'thumb': {'w': 150, 'h': 150, 'resize': 'crop'}, 'large': {'w': 750, 'h': 285, 'resize': 'fit'}, 'small': {'w': 680, 'h': 258, 'resize': 'fit'}, 'medium': {'w': 750, 'h': 285, 'resize': 'fit'}}}]}, 'extended_entities': {'media': [{'id': 730733544687992832, 'id_str': '730733544687992832', 'indices': [98, 121], 'media_url': 'http://pbs.twimg.com/media/CiQWSYyXAAAaEtW.jpg', 'media_url_https': 'https://pbs.twimg.com/media/CiQWSYyXAAAaEtW.jpg', 'url': 'https://t.co/2ZlAbkxpCC', 'display_url': 'pic.twitter.com/2ZlAbkxpCC', 'expanded_url': 'https://twitter.com/CBItweets/status/730733544989949953/photo/1', 'type': 'photo', 'sizes': {'thumb': {'w': 150, 'h': 150, 'resize': 'crop'}, 'large': {'w': 750, 'h': 285, 'resize': 'fit'}, 'small': {'w': 680, 'h': 258, 'resize': 'fit'}, 'medium': {'w': 750, 'h': 285, 'resize': 'fit'}}}]}, 'source': '<a href=\"http://www.hootsuite.com\" rel=\"nofollow\">Hootsuite</a>', 'in_reply_to_status_id': None, 'in_reply_to_status_id_str': None, 'in_reply_to_user_id': None, 'in_reply_to_user_id_str': None, 'in_reply_to_screen_name': None, 'user': {'id': 40010267, 'id_str': '40010267', 'name': 'CBI', 'screen_name': 'CBItweets', 'location': 'United Kingdom', 'description': 'Follow to be the first to get business thinking, economic data & policy reaction from the voice of UK enterprise.  \\nDirector General - @CBICarolyn', 'url': 'https://t.co/vSeUAcPPha', 'entities': {'url': {'urls': [{'url': 'https://t.co/vSeUAcPPha', 'expanded_url': 'http://www.cbi.org.uk', 'display_url': 'cbi.org.uk', 'indices': [0, 23]}]}, 'description': {'urls': []}}, 'protected': False, 'followers_count': 56177, 'friends_count': 1924, 'listed_count': 1189, 'created_at': 'Thu May 14 14:59:38 +0000 2009', 'favourites_count': 1638, 'utc_offset': None, 'time_zone': None, 'geo_enabled': True, 'verified': True, 'statuses_count': 20267, 'lang': 'en', 'contributors_enabled': False, 'is_translator': False, 'is_translation_enabled': False, 'profile_background_color': '9AE4E8', 'profile_background_image_url': 'http://abs.twimg.com/images/themes/theme16/bg.gif', 'profile_background_image_url_https': 'https://abs.twimg.com/images/themes/theme16/bg.gif', 'profile_background_tile': False, 'profile_image_url': 'http://pbs.twimg.com/profile_images/1021742967894228992/N1o7x0-z_normal.jpg', 'profile_image_url_https': 'https://pbs.twimg.com/profile_images/1021742967894228992/N1o7x0-z_normal.jpg', 'profile_banner_url': 'https://pbs.twimg.com/profile_banners/40010267/1511780116', 'profile_link_color': '0084B4', 'profile_sidebar_border_color': 'BDDCAD', 'profile_sidebar_fill_color': 'DDFFCC', 'profile_text_color': '333333', 'profile_use_background_image': True, 'has_extended_profile': False, 'default_profile': False, 'default_profile_image': False, 'following': None, 'follow_request_sent': None, 'notifications': None, 'translator_type': 'none'}, 'geo': None, 'coordinates': None, 'place': None, 'contributors': None, 'is_quote_status': False, 'retweet_count': 13, 'favorite_count': 3, 'favorited': False, 'retweeted': False, 'possibly_sensitive': False, 'lang': 'en'}, 'retweet_count': 3, 'favorite_count': 2, 'favorited': False, 'retweeted': False, 'possibly_sensitive': False, 'lang': 'en'}\n"
     ]
    }
   ],
   "source": [
    "result = twitter.lookup_status(id='730735231712538624')\n",
    "\n",
    "for tw in result:\n",
    "    print(tw[\"id\"])\n",
    "    print(tw[\"user\"])\n",
    "    print(tw)"
   ]
  },
  {
   "cell_type": "code",
   "execution_count": null,
   "metadata": {
    "ExecuteTime": {
     "end_time": "2018-07-19T13:57:40.104500Z",
     "start_time": "2018-07-19T13:57:39.987568Z"
    }
   },
   "outputs": [],
   "source": [
    "from os import listdir\n",
    "from os.path import isfile, join\n",
    "onlyfiles = [f for f in listdir('Brexit_tweets_stance') if isfile(join('Brexit_tweets_stance', f))]\n",
    "\n",
    "onlyfiles"
   ]
  },
  {
   "cell_type": "code",
   "execution_count": 41,
   "metadata": {
    "ExecuteTime": {
     "end_time": "2018-07-19T14:29:16.241274Z",
     "start_time": "2018-07-19T14:29:16.236276Z"
    }
   },
   "outputs": [],
   "source": [
    "filelist = list(chunks(onlyfiles, 100))[0]"
   ]
  },
  {
   "cell_type": "code",
   "execution_count": 27,
   "metadata": {
    "ExecuteTime": {
     "end_time": "2018-07-19T14:01:19.022662Z",
     "start_time": "2018-07-19T14:01:19.003676Z"
    }
   },
   "outputs": [
    {
     "data": {
      "text/html": [
       "<div>\n",
       "<style scoped>\n",
       "    .dataframe tbody tr th:only-of-type {\n",
       "        vertical-align: middle;\n",
       "    }\n",
       "\n",
       "    .dataframe tbody tr th {\n",
       "        vertical-align: top;\n",
       "    }\n",
       "\n",
       "    .dataframe thead th {\n",
       "        text-align: right;\n",
       "    }\n",
       "</style>\n",
       "<table border=\"1\" class=\"dataframe\">\n",
       "  <thead>\n",
       "    <tr style=\"text-align: right;\">\n",
       "      <th></th>\n",
       "      <th>id</th>\n",
       "      <th>sentiment</th>\n",
       "    </tr>\n",
       "  </thead>\n",
       "  <tbody>\n",
       "    <tr>\n",
       "      <th>0</th>\n",
       "      <td>730759428430008320</td>\n",
       "      <td>Positive</td>\n",
       "    </tr>\n",
       "    <tr>\n",
       "      <th>1</th>\n",
       "      <td>730759413938655232</td>\n",
       "      <td>Negative</td>\n",
       "    </tr>\n",
       "    <tr>\n",
       "      <th>2</th>\n",
       "      <td>730759400445644801</td>\n",
       "      <td>Positive</td>\n",
       "    </tr>\n",
       "    <tr>\n",
       "      <th>3</th>\n",
       "      <td>730759393965412352</td>\n",
       "      <td>Neutral</td>\n",
       "    </tr>\n",
       "    <tr>\n",
       "      <th>4</th>\n",
       "      <td>730759392925261824</td>\n",
       "      <td>Positive</td>\n",
       "    </tr>\n",
       "  </tbody>\n",
       "</table>\n",
       "</div>"
      ],
      "text/plain": [
       "                   id sentiment\n",
       "0  730759428430008320  Positive\n",
       "1  730759413938655232  Negative\n",
       "2  730759400445644801  Positive\n",
       "3  730759393965412352   Neutral\n",
       "4  730759392925261824  Positive"
      ]
     },
     "execution_count": 27,
     "metadata": {},
     "output_type": "execute_result"
    }
   ],
   "source": [
    "df = pd.read_csv('Brexit_tweets_stance/'+ onlyfiles[0], sep='\\t', header = None, names = ['id', 'sentiment'])\n",
    "df.head()"
   ]
  },
  {
   "cell_type": "code",
   "execution_count": 46,
   "metadata": {
    "ExecuteTime": {
     "end_time": "2018-07-19T14:31:39.567675Z",
     "start_time": "2018-07-19T14:31:39.079955Z"
    }
   },
   "outputs": [],
   "source": [
    "df_from_each_file = (pd.read_csv('Brexit_tweets_stance/' + f, sep='\\t', header = None, names = ['id', 'sentiment']) for f in filelist)\n",
    "concatenated_df   = pd.concat(df_from_each_file, sort = False)"
   ]
  },
  {
   "cell_type": "code",
   "execution_count": 49,
   "metadata": {
    "ExecuteTime": {
     "end_time": "2018-07-19T14:31:59.792074Z",
     "start_time": "2018-07-19T14:31:59.785079Z"
    }
   },
   "outputs": [
    {
     "data": {
      "text/plain": [
       "(164134, 2)"
      ]
     },
     "execution_count": 49,
     "metadata": {},
     "output_type": "execute_result"
    }
   ],
   "source": [
    "concatenated_df.shape"
   ]
  },
  {
   "cell_type": "code",
   "execution_count": 50,
   "metadata": {
    "ExecuteTime": {
     "end_time": "2018-07-19T14:32:20.016475Z",
     "start_time": "2018-07-19T14:32:20.008479Z"
    }
   },
   "outputs": [
    {
     "data": {
      "text/plain": [
       "array([730759428430008320, 730759413938655232, 730759400445644801,\n",
       "       730759393965412352, 730759392925261824, 730759383253192705,\n",
       "       730759377548918784, 730759375174897664, 730759372603789313,\n",
       "       730759366530478080, 730759365142167552, 730759363175034880,\n",
       "       730759346766876672, 730759344879505409, 730759334796349440,\n",
       "       730759321068445696, 730759317884915712, 730759317075439617,\n",
       "       730759310754611201, 730759308707811328, 730759305792749568,\n",
       "       730759304253452289, 730759296955367424, 730759295478960129,\n",
       "       730759289057513472, 730759278630424577, 730759275543470080,\n",
       "       730759264386617344, 730759262226485248, 730759258241945600,\n",
       "       730759256530661377, 730759251883347968, 730759244979396608,\n",
       "       730759228223279104, 730759220631621632, 730759212507090944,\n",
       "       730759212268052480, 730759212163305472, 730759209579646976,\n",
       "       730759204747788288, 730759202059259904, 730759201472036864,\n",
       "       730759190042558464, 730759188973006848, 730759186997448704,\n",
       "       730759176452984832, 730759173214871552, 730759171163951104,\n",
       "       730759158195212288, 730759155959668737, 730759142047133696,\n",
       "       730759139077586944, 730759130642821120, 730759122430361600,\n",
       "       730759084375429120, 730759074204274689, 730759071138217986,\n",
       "       730764724678316032, 730764718927798273, 730764716927266816,\n",
       "       730764715329245184, 730764713538297856, 730764712300838912,\n",
       "       730764710941999104, 730764704134631424, 730764699407634432,\n",
       "       730764690880598016, 730764678037688320, 730764676846505984,\n",
       "       730764674376056832, 730764674346680320, 730764665999986689,\n",
       "       730764653756882944, 730764651617759232, 730764650858590209,\n",
       "       730764649805828096, 730764643908657156, 730764635616481280,\n",
       "       730764630394609665, 730764626040913921, 730764619783020544,\n",
       "       730764616834355200, 730764616725233664, 730764615349493760,\n",
       "       730764615160868864, 730764614770798592, 730764612396810241,\n",
       "       730764596995346432, 730764596986970112, 730764583615483904,\n",
       "       730764581627383808, 730764573217804288, 730764572349607936,\n",
       "       730764570361352193, 730764563428327424, 730764546542063616,\n",
       "       730764545237651456, 730764545145380864, 730764536886796288,\n",
       "       730764531669073920], dtype=int64)"
      ]
     },
     "execution_count": 50,
     "metadata": {},
     "output_type": "execute_result"
    }
   ],
   "source": [
    "list(chunks(concatenated_df[\"id\"].values, 100))[0]"
   ]
  },
  {
   "cell_type": "code",
   "execution_count": 30,
   "metadata": {
    "ExecuteTime": {
     "end_time": "2018-07-19T14:05:58.201927Z",
     "start_time": "2018-07-19T14:05:58.185937Z"
    }
   },
   "outputs": [],
   "source": [
    "#  MongoDB connection\n",
    "client      = MongoClient()\n",
    "db = client.brexit\n",
    "collection = db.tweets"
   ]
  },
  {
   "cell_type": "code",
   "execution_count": 37,
   "metadata": {
    "ExecuteTime": {
     "end_time": "2018-07-19T14:20:30.906583Z",
     "start_time": "2018-07-19T14:20:30.898588Z"
    }
   },
   "outputs": [
    {
     "data": {
      "text/plain": [
       "'730759428430008320,730759413938655232,730759400445644801,730759393965412352,730759392925261824'"
      ]
     },
     "execution_count": 37,
     "metadata": {},
     "output_type": "execute_result"
    }
   ],
   "source": [
    "\",\".join([str(x) for x in list(chunks(df[\"id\"].values, 5))[0]])"
   ]
  },
  {
   "cell_type": "code",
   "execution_count": 63,
   "metadata": {
    "ExecuteTime": {
     "end_time": "2018-07-19T14:38:41.968874Z",
     "start_time": "2018-07-19T14:38:41.680041Z"
    }
   },
   "outputs": [],
   "source": [
    "\n",
    "result = twitter.lookup_status(id='730759400445644801,730759393965412352,730759392925261824,730759383253192705,730759377548918784')\n",
    "\n",
    "for tw in result:\n",
    "        result = db.tweets.insert_one({ \"_id\": str(tw[\"id\"]), \"tweet\": tw} )"
   ]
  },
  {
   "cell_type": "code",
   "execution_count": 62,
   "metadata": {
    "ExecuteTime": {
     "end_time": "2018-07-19T14:37:44.798665Z",
     "start_time": "2018-07-19T14:37:44.783672Z"
    }
   },
   "outputs": [
    {
     "data": {
      "text/plain": [
       "{'contributors': None,\n",
       " 'coordinates': None,\n",
       " 'created_at': 'Thu May 12 13:59:47 +0000 2016',\n",
       " 'entities': {'hashtags': [{'indices': [42, 49], 'text': 'Brexit'},\n",
       "   {'indices': [107, 118], 'text': 'StrongerIn'}],\n",
       "  'symbols': [],\n",
       "  'urls': [],\n",
       "  'user_mentions': [{'id': 2365445227,\n",
       "    'id_str': '2365445227',\n",
       "    'indices': [3, 17],\n",
       "    'name': 'European Mainstream',\n",
       "    'screen_name': 'EU_Mainstream'}]},\n",
       " 'favorite_count': 0,\n",
       " 'favorited': False,\n",
       " 'geo': None,\n",
       " 'id': 730759377548918784,\n",
       " 'id_str': '730759377548918784',\n",
       " 'in_reply_to_screen_name': None,\n",
       " 'in_reply_to_status_id': None,\n",
       " 'in_reply_to_status_id_str': None,\n",
       " 'in_reply_to_user_id': None,\n",
       " 'in_reply_to_user_id_str': None,\n",
       " 'is_quote_status': True,\n",
       " 'lang': 'en',\n",
       " 'place': None,\n",
       " 'quoted_status_id': 730733544989949953,\n",
       " 'quoted_status_id_str': '730733544989949953',\n",
       " 'retweet_count': 3,\n",
       " 'retweeted': False,\n",
       " 'retweeted_status': {'contributors': None,\n",
       "  'coordinates': None,\n",
       "  'created_at': 'Thu May 12 12:23:50 +0000 2016',\n",
       "  'entities': {'hashtags': [{'indices': [23, 30], 'text': 'Brexit'},\n",
       "    {'indices': [88, 99], 'text': 'StrongerIn'}],\n",
       "   'symbols': [],\n",
       "   'urls': [{'display_url': 'twitter.com/cbitweets/stat…',\n",
       "     'expanded_url': 'https://twitter.com/cbitweets/status/730733544989949953',\n",
       "     'indices': [101, 124],\n",
       "     'url': 'https://t.co/UWlnsaV4op'}],\n",
       "   'user_mentions': []},\n",
       "  'favorite_count': 2,\n",
       "  'favorited': False,\n",
       "  'geo': None,\n",
       "  'id': 730735231712538624,\n",
       "  'id_str': '730735231712538624',\n",
       "  'in_reply_to_screen_name': None,\n",
       "  'in_reply_to_status_id': None,\n",
       "  'in_reply_to_status_id_str': None,\n",
       "  'in_reply_to_user_id': None,\n",
       "  'in_reply_to_user_id_str': None,\n",
       "  'is_quote_status': True,\n",
       "  'lang': 'en',\n",
       "  'place': None,\n",
       "  'possibly_sensitive': False,\n",
       "  'quoted_status': {'contributors': None,\n",
       "   'coordinates': None,\n",
       "   'created_at': 'Thu May 12 12:17:08 +0000 2016',\n",
       "   'entities': {'hashtags': [],\n",
       "    'media': [{'display_url': 'pic.twitter.com/2ZlAbkxpCC',\n",
       "      'expanded_url': 'https://twitter.com/CBItweets/status/730733544989949953/photo/1',\n",
       "      'id': 730733544687992832,\n",
       "      'id_str': '730733544687992832',\n",
       "      'indices': [98, 121],\n",
       "      'media_url': 'http://pbs.twimg.com/media/CiQWSYyXAAAaEtW.jpg',\n",
       "      'media_url_https': 'https://pbs.twimg.com/media/CiQWSYyXAAAaEtW.jpg',\n",
       "      'sizes': {'large': {'h': 285, 'resize': 'fit', 'w': 750},\n",
       "       'medium': {'h': 285, 'resize': 'fit', 'w': 750},\n",
       "       'small': {'h': 258, 'resize': 'fit', 'w': 680},\n",
       "       'thumb': {'h': 150, 'resize': 'crop', 'w': 150}},\n",
       "      'type': 'photo',\n",
       "      'url': 'https://t.co/2ZlAbkxpCC'}],\n",
       "    'symbols': [],\n",
       "    'urls': [],\n",
       "    'user_mentions': [{'id': 515415574,\n",
       "      'id_str': '515415574',\n",
       "      'indices': [81, 97],\n",
       "      'name': 'Rain Newton-Smith',\n",
       "      'screen_name': 'RainNewtonSmith'}]},\n",
       "   'extended_entities': {'media': [{'display_url': 'pic.twitter.com/2ZlAbkxpCC',\n",
       "      'expanded_url': 'https://twitter.com/CBItweets/status/730733544989949953/photo/1',\n",
       "      'id': 730733544687992832,\n",
       "      'id_str': '730733544687992832',\n",
       "      'indices': [98, 121],\n",
       "      'media_url': 'http://pbs.twimg.com/media/CiQWSYyXAAAaEtW.jpg',\n",
       "      'media_url_https': 'https://pbs.twimg.com/media/CiQWSYyXAAAaEtW.jpg',\n",
       "      'sizes': {'large': {'h': 285, 'resize': 'fit', 'w': 750},\n",
       "       'medium': {'h': 285, 'resize': 'fit', 'w': 750},\n",
       "       'small': {'h': 258, 'resize': 'fit', 'w': 680},\n",
       "       'thumb': {'h': 150, 'resize': 'crop', 'w': 150}},\n",
       "      'type': 'photo',\n",
       "      'url': 'https://t.co/2ZlAbkxpCC'}]},\n",
       "   'favorite_count': 3,\n",
       "   'favorited': False,\n",
       "   'geo': None,\n",
       "   'id': 730733544989949953,\n",
       "   'id_str': '730733544989949953',\n",
       "   'in_reply_to_screen_name': None,\n",
       "   'in_reply_to_status_id': None,\n",
       "   'in_reply_to_status_id_str': None,\n",
       "   'in_reply_to_user_id': None,\n",
       "   'in_reply_to_user_id_str': None,\n",
       "   'is_quote_status': False,\n",
       "   'lang': 'en',\n",
       "   'place': None,\n",
       "   'possibly_sensitive': False,\n",
       "   'retweet_count': 14,\n",
       "   'retweeted': False,\n",
       "   'source': '<a href=\"http://www.hootsuite.com\" rel=\"nofollow\">Hootsuite</a>',\n",
       "   'text': 'Evidence that leaving the EU will have negative economic impact is growing, says @RainNewtonSmith https://t.co/2ZlAbkxpCC',\n",
       "   'truncated': False,\n",
       "   'user': {'contributors_enabled': False,\n",
       "    'created_at': 'Thu May 14 14:59:38 +0000 2009',\n",
       "    'default_profile': False,\n",
       "    'default_profile_image': False,\n",
       "    'description': 'Follow to be the first to get business thinking, economic data & policy reaction from the voice of UK enterprise.  \\nDirector General - @CBICarolyn',\n",
       "    'entities': {'description': {'urls': []},\n",
       "     'url': {'urls': [{'display_url': 'cbi.org.uk',\n",
       "        'expanded_url': 'http://www.cbi.org.uk',\n",
       "        'indices': [0, 23],\n",
       "        'url': 'https://t.co/vSeUAcPPha'}]}},\n",
       "    'favourites_count': 1633,\n",
       "    'follow_request_sent': None,\n",
       "    'followers_count': 56111,\n",
       "    'following': None,\n",
       "    'friends_count': 1923,\n",
       "    'geo_enabled': True,\n",
       "    'has_extended_profile': False,\n",
       "    'id': 40010267,\n",
       "    'id_str': '40010267',\n",
       "    'is_translation_enabled': False,\n",
       "    'is_translator': False,\n",
       "    'lang': 'en',\n",
       "    'listed_count': 1188,\n",
       "    'location': 'United Kingdom',\n",
       "    'name': 'CBI',\n",
       "    'notifications': None,\n",
       "    'profile_background_color': '9AE4E8',\n",
       "    'profile_background_image_url': 'http://abs.twimg.com/images/themes/theme16/bg.gif',\n",
       "    'profile_background_image_url_https': 'https://abs.twimg.com/images/themes/theme16/bg.gif',\n",
       "    'profile_background_tile': False,\n",
       "    'profile_banner_url': 'https://pbs.twimg.com/profile_banners/40010267/1511780116',\n",
       "    'profile_image_url': 'http://pbs.twimg.com/profile_images/1010150425373368320/-Ys0xeRk_normal.jpg',\n",
       "    'profile_image_url_https': 'https://pbs.twimg.com/profile_images/1010150425373368320/-Ys0xeRk_normal.jpg',\n",
       "    'profile_link_color': '0084B4',\n",
       "    'profile_sidebar_border_color': 'BDDCAD',\n",
       "    'profile_sidebar_fill_color': 'DDFFCC',\n",
       "    'profile_text_color': '333333',\n",
       "    'profile_use_background_image': True,\n",
       "    'protected': False,\n",
       "    'screen_name': 'CBItweets',\n",
       "    'statuses_count': 20240,\n",
       "    'time_zone': None,\n",
       "    'translator_type': 'none',\n",
       "    'url': 'https://t.co/vSeUAcPPha',\n",
       "    'utc_offset': None,\n",
       "    'verified': True}},\n",
       "  'quoted_status_id': 730733544989949953,\n",
       "  'quoted_status_id_str': '730733544989949953',\n",
       "  'retweet_count': 3,\n",
       "  'retweeted': False,\n",
       "  'source': '<a href=\"http://twitter.com/download/iphone\" rel=\"nofollow\">Twitter for iPhone</a>',\n",
       "  'text': \"Yet more evidence that #Brexit will have negative economic impact. Britain's economy is #StrongerIn  https://t.co/UWlnsaV4op\",\n",
       "  'truncated': False,\n",
       "  'user': {'contributors_enabled': False,\n",
       "   'created_at': 'Fri Feb 28 11:00:22 +0000 2014',\n",
       "   'default_profile': True,\n",
       "   'default_profile_image': False,\n",
       "   'description': \"Mainstream of Conservative Party, united by belief that UK's national interest is best served working for changes within EU |\\n\\n\\nFB page: https://t.co/3dpgYhbNZL\",\n",
       "   'entities': {'description': {'urls': [{'display_url': 'facebook.com/ConservativeEu…',\n",
       "       'expanded_url': 'https://www.facebook.com/ConservativeEuropeamMainstream/',\n",
       "       'indices': [137, 160],\n",
       "       'url': 'https://t.co/3dpgYhbNZL'}]},\n",
       "    'url': {'urls': [{'display_url': 'europeanmainstream.org.uk',\n",
       "       'expanded_url': 'http://www.europeanmainstream.org.uk',\n",
       "       'indices': [0, 22],\n",
       "       'url': 'http://t.co/5ww1lJ0myT'}]}},\n",
       "   'favourites_count': 434,\n",
       "   'follow_request_sent': None,\n",
       "   'followers_count': 1144,\n",
       "   'following': None,\n",
       "   'friends_count': 681,\n",
       "   'geo_enabled': False,\n",
       "   'has_extended_profile': False,\n",
       "   'id': 2365445227,\n",
       "   'id_str': '2365445227',\n",
       "   'is_translation_enabled': False,\n",
       "   'is_translator': False,\n",
       "   'lang': 'en',\n",
       "   'listed_count': 54,\n",
       "   'location': 'United Kingdom',\n",
       "   'name': 'European Mainstream',\n",
       "   'notifications': None,\n",
       "   'profile_background_color': 'C0DEED',\n",
       "   'profile_background_image_url': 'http://abs.twimg.com/images/themes/theme1/bg.png',\n",
       "   'profile_background_image_url_https': 'https://abs.twimg.com/images/themes/theme1/bg.png',\n",
       "   'profile_background_tile': False,\n",
       "   'profile_banner_url': 'https://pbs.twimg.com/profile_banners/2365445227/1436132186',\n",
       "   'profile_image_url': 'http://pbs.twimg.com/profile_images/443692556421832704/sdu4Jsst_normal.jpeg',\n",
       "   'profile_image_url_https': 'https://pbs.twimg.com/profile_images/443692556421832704/sdu4Jsst_normal.jpeg',\n",
       "   'profile_link_color': '1DA1F2',\n",
       "   'profile_sidebar_border_color': 'C0DEED',\n",
       "   'profile_sidebar_fill_color': 'DDEEF6',\n",
       "   'profile_text_color': '333333',\n",
       "   'profile_use_background_image': True,\n",
       "   'protected': False,\n",
       "   'screen_name': 'EU_Mainstream',\n",
       "   'statuses_count': 1430,\n",
       "   'time_zone': None,\n",
       "   'translator_type': 'none',\n",
       "   'url': 'http://t.co/5ww1lJ0myT',\n",
       "   'utc_offset': None,\n",
       "   'verified': False}},\n",
       " 'source': '<a href=\"http://twitter.com/#!/download/ipad\" rel=\"nofollow\">Twitter for iPad</a>',\n",
       " 'text': \"RT @EU_Mainstream: Yet more evidence that #Brexit will have negative economic impact. Britain's economy is #StrongerIn  https://t.co/UWlnsa…\",\n",
       " 'truncated': False,\n",
       " 'user': {'contributors_enabled': False,\n",
       "  'created_at': 'Wed May 27 15:52:16 +0000 2009',\n",
       "  'default_profile': False,\n",
       "  'default_profile_image': False,\n",
       "  'description': 'I never saw a wild thing sorry for itself. a small bird will drop frozen dead from a bough without ever having felt sorry for itself. - D. H. Lawrence',\n",
       "  'entities': {'description': {'urls': []}},\n",
       "  'favourites_count': 8168,\n",
       "  'follow_request_sent': None,\n",
       "  'followers_count': 1545,\n",
       "  'following': None,\n",
       "  'friends_count': 347,\n",
       "  'geo_enabled': True,\n",
       "  'has_extended_profile': False,\n",
       "  'id': 42910254,\n",
       "  'id_str': '42910254',\n",
       "  'is_translation_enabled': False,\n",
       "  'is_translator': False,\n",
       "  'lang': 'en',\n",
       "  'listed_count': 197,\n",
       "  'location': '',\n",
       "  'name': 'I could be the catalyst that sparks a revolution',\n",
       "  'notifications': None,\n",
       "  'profile_background_color': '131516',\n",
       "  'profile_background_image_url': 'http://abs.twimg.com/images/themes/theme14/bg.gif',\n",
       "  'profile_background_image_url_https': 'https://abs.twimg.com/images/themes/theme14/bg.gif',\n",
       "  'profile_background_tile': False,\n",
       "  'profile_banner_url': 'https://pbs.twimg.com/profile_banners/42910254/1530560166',\n",
       "  'profile_image_url': 'http://pbs.twimg.com/profile_images/1003083108256833536/LfCDENaV_normal.jpg',\n",
       "  'profile_image_url_https': 'https://pbs.twimg.com/profile_images/1003083108256833536/LfCDENaV_normal.jpg',\n",
       "  'profile_link_color': '0D0501',\n",
       "  'profile_sidebar_border_color': '000000',\n",
       "  'profile_sidebar_fill_color': 'EFEFEF',\n",
       "  'profile_text_color': '333333',\n",
       "  'profile_use_background_image': False,\n",
       "  'protected': False,\n",
       "  'screen_name': 'dejavousagain',\n",
       "  'statuses_count': 315366,\n",
       "  'time_zone': None,\n",
       "  'translator_type': 'regular',\n",
       "  'url': None,\n",
       "  'utc_offset': None,\n",
       "  'verified': False}}"
      ]
     },
     "execution_count": 62,
     "metadata": {},
     "output_type": "execute_result"
    }
   ],
   "source": [
    "tw"
   ]
  },
  {
   "cell_type": "code",
   "execution_count": 65,
   "metadata": {
    "ExecuteTime": {
     "end_time": "2018-07-20T00:14:38.898937Z",
     "start_time": "2018-07-19T14:51:49.836238Z"
    }
   },
   "outputs": [
    {
     "name": "stdout",
     "output_type": "stream",
     "text": [
      " FAILED: Unexpected error: <class 'twython.exceptions.TwythonError'>\n",
      " FAILED: Unexpected error: <class 'twython.exceptions.TwythonError'>\n",
      " FAILED: Unexpected error: <class 'twython.exceptions.TwythonError'>\n",
      " FAILED: Unexpected error: <class 'twython.exceptions.TwythonError'>\n",
      " FAILED: Unexpected error: <class 'twython.exceptions.TwythonError'>\n",
      " FAILED: Unexpected error: <class 'twython.exceptions.TwythonError'>\n",
      " FAILED: Unexpected error: <class 'twython.exceptions.TwythonError'>\n",
      " FAILED: Unexpected error: <class 'twython.exceptions.TwythonError'>\n",
      " FAILED: Unexpected error: <class 'twython.exceptions.TwythonError'>\n",
      " FAILED: Unexpected error: <class 'twython.exceptions.TwythonError'>\n",
      " FAILED: Unexpected error: <class 'twython.exceptions.TwythonError'>\n",
      " FAILED: Unexpected error: <class 'twython.exceptions.TwythonError'>\n",
      " FAILED: Unexpected error: <class 'twython.exceptions.TwythonError'>\n",
      " FAILED: Unexpected error: <class 'twython.exceptions.TwythonError'>\n",
      " FAILED: Unexpected error: <class 'twython.exceptions.TwythonError'>\n",
      " FAILED: Unexpected error: <class 'twython.exceptions.TwythonError'>\n",
      " FAILED: Unexpected error: <class 'twython.exceptions.TwythonError'>\n"
     ]
    }
   ],
   "source": [
    "for filelist in list(chunks(onlyfiles, 100)):\n",
    "    df_from_each_file = (pd.read_csv('Brexit_tweets_stance/' + f, sep='\\t', header = None, names = ['id', 'sentiment']) for f in filelist)\n",
    "    concatenated_df   = pd.concat(df_from_each_file, sort = False)\n",
    "    \n",
    "    for tweetchunk in list(chunks(concatenated_df[\"id\"].values, 100)):\n",
    "        query_string = \",\".join([str(x) for x in tweetchunk])  \n",
    "\n",
    "        try:\n",
    "            result = twitter.lookup_status(id=query_string)\n",
    "            for tw in result:\n",
    "                result = db.tweets.insert_one({ \"_id\": str(tw[\"id\"]), \"tweet\": tw} )\n",
    "\n",
    "        except TwythonRateLimitError as e:\n",
    "            # Wait if we hit the Rate limit\n",
    "            wait_for_awhile()\n",
    "        except:\n",
    "            print(\" FAILED: Unexpected error:\", sys.exc_info()[0])\n",
    "            pass"
   ]
  },
  {
   "cell_type": "code",
   "execution_count": 66,
   "metadata": {
    "ExecuteTime": {
     "end_time": "2018-07-20T06:26:58.296073Z",
     "start_time": "2018-07-20T06:26:58.242103Z"
    }
   },
   "outputs": [],
   "source": [
    "logging.shutdown()\n"
   ]
  },
  {
   "cell_type": "code",
   "execution_count": null,
   "metadata": {},
   "outputs": [],
   "source": []
  }
 ],
 "metadata": {
  "kernelspec": {
   "display_name": "Python 3",
   "language": "python",
   "name": "python3"
  },
  "language_info": {
   "codemirror_mode": {
    "name": "ipython",
    "version": 3
   },
   "file_extension": ".py",
   "mimetype": "text/x-python",
   "name": "python",
   "nbconvert_exporter": "python",
   "pygments_lexer": "ipython3",
   "version": "3.6.3"
  }
 },
 "nbformat": 4,
 "nbformat_minor": 2
}
